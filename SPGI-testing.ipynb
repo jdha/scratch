{
 "cells": [
  {
   "cell_type": "code",
   "execution_count": null,
   "id": "e3de7db6-5209-479e-88a5-edbe7af164a2",
   "metadata": {},
   "outputs": [],
   "source": [
    "import xarray as xr\n",
    "import pandas as pd\n",
    "import numpy as np\n",
    "import datetime\n",
    "import dask\n",
    "import matplotlib.pyplot as plt\n",
    "import time as timing\n",
    "from glob import glob\n",
    "import seaborn as sns"
   ]
  },
  {
   "cell_type": "code",
   "execution_count": null,
   "id": "e81e11d9-3d54-4a04-907a-8d9963b52c39",
   "metadata": {},
   "outputs": [],
   "source": [
    "from dask.distributed import Client, progress, LocalCluster"
   ]
  },
  {
   "cell_type": "code",
   "execution_count": null,
   "id": "512bf527-bed0-4e41-98c6-042f7a5231f4",
   "metadata": {
    "tags": []
   },
   "outputs": [],
   "source": [
    "dask.config.set({\"distributed.scheduler.worker-ttl\": 6400})\n",
    "cluster = LocalCluster(name=\"dask_LE\", processes=True, n_workers = 24,threads_per_worker=1)\n",
    "cluster.adapt(minimum=1, maximum=24)\n",
    "client = Client(cluster)\n"
   ]
  },
  {
   "cell_type": "markdown",
   "id": "b9259851-a10d-4def-93f1-968c03b9b4a7",
   "metadata": {},
   "source": [
    "### Do you want to see the workers working?"
   ]
  },
  {
   "cell_type": "code",
   "execution_count": null,
   "id": "16797ff0-33ac-4e6c-9f93-7f7ad0565350",
   "metadata": {},
   "outputs": [],
   "source": [
    "print(\"Dashboard URL: {}\".format(cluster.dashboard_link))"
   ]
  },
  {
   "cell_type": "markdown",
   "id": "6111026a-4935-4620-a330-1168e4989c28",
   "metadata": {
    "tags": []
   },
   "source": [
    "### Setup domain and time information"
   ]
  },
  {
   "cell_type": "code",
   "execution_count": null,
   "id": "68dfe193-9966-4861-9ebb-c4fd7cd08d34",
   "metadata": {},
   "outputs": [],
   "source": [
    "# Open domain_cfg (in this case mesh_mask) file\n",
    "domcfg = xr.open_dataset('/gws/nopw/j04/canari/shared/large-ensemble/ocean/mesh_mask.nc')\n",
    "# As we'll be multipling vo by e3v we have to make sure the have common dims (not sure there's any other way around this)\n",
    "domcfg = domcfg.rename_dims({'z':'depthv'})"
   ]
  },
  {
   "cell_type": "code",
   "execution_count": null,
   "id": "2213fc09-d780-427d-925a-464bc6a184a0",
   "metadata": {},
   "outputs": [],
   "source": [
    "# What LE members are available?\n",
    "LEM = [1,  10,  11,  12,  13,  18,  2,  20,  21,  22,  24,  28,  3,  30,  31,  4,  5,  6,  7,  9]"
   ]
  },
  {
   "cell_type": "code",
   "execution_count": null,
   "id": "cf05a50c-a185-452a-bdbe-f172e9c0fc69",
   "metadata": {},
   "outputs": [],
   "source": [
    "# Gathering time information from first and last file and converting from cfTime to DateTime for ease of use\n",
    "fs = sorted(glob('/gws/nopw/j04/canari/shared/large-ensemble/priority/HIST2/%s/OCN/yearly/*/*grid_V_vomecrty.nc'%(LEM[0])))\n",
    "d0 = xr.open_dataset(fs[0])\n",
    "dn = xr.open_dataset(fs[-1])\n",
    "\n",
    "tbeg = datetime.datetime.strptime(str(d0.time_counter.values[0]), '%Y-%m-%d %H:%M:%S')\n",
    "tend = datetime.datetime.strptime(str(dn.time_counter.values[-1]),'%Y-%m-%d %H:%M:%S')    \n",
    "tend = datetime.datetime(tend.year+1 if tend.month == 12 else tend.year, 1 if tend.month == 12 else tend.month+1, 1)\n",
    "time = pd.date_range(tbeg, tend, freq = 'M')\n",
    "\n",
    "tbeg = time[0]\n",
    "tend = time[-1]\n",
    "tbeg = datetime.datetime(tbeg.year, tbeg.month, 1)\n",
    "\n",
    "time_beg = pd.date_range(tbeg, tend, freq='MS')\n",
    "time_end = (pd.date_range(tbeg, freq='M', periods=time_beg.size)\n",
    "             + pd.Timedelta('1d'))\n",
    "\n",
    "time = time_beg + (time_end - time_beg) / 2"
   ]
  },
  {
   "cell_type": "code",
   "execution_count": null,
   "id": "d2227e41-59c5-4575-b848-410cd6e8c31a",
   "metadata": {},
   "outputs": [],
   "source": [
    "e3v=domcfg.e3v_0[0,:,900:1075,900:1025].load()\n",
    "e1t=domcfg.e1t[0,900:1075,900:1025].load()"
   ]
  },
  {
   "cell_type": "code",
   "execution_count": null,
   "id": "480a0025-927b-4026-ac2a-a322353a977e",
   "metadata": {},
   "outputs": [],
   "source": [
    "# Delayed open_dataset of LE files\n",
    "@dask.delayed\n",
    "def open_LE_delayed(t0, lem):\n",
    "    return xr.open_dataset(glob('/gws/nopw/j04/canari/shared/large-ensemble/priority/HIST2/%s/OCN/yearly/%04d/*grid_V_vomecrty.nc'%(lem, t0))[0],\n",
    "                               chunks={'time_counter':1})\n",
    "\n",
    "def calc_bt_psi(t0, lem):\n",
    "    # Set up psi calculation with delayed file opening\n",
    "    var_data = ((open_LE_delayed(t0, lem)['vomecrty'][:,:,900:1075,900:1025]\n",
    "                 *e3v).sum(dim='depthv')\n",
    "                *e1t/1e6).cumsum(dim='x').data\n",
    "    # Tell Dask the delayed function returns an array, and the size and type of that array\n",
    "    return dask.array.from_delayed(var_data[np.newaxis,:], (1,12, 175, 125), d0['vomecrty'].dtype)"
   ]
  },
  {
   "cell_type": "code",
   "execution_count": null,
   "id": "a75218f2-34e1-4962-a7b5-02fffe895ac3",
   "metadata": {},
   "outputs": [],
   "source": [
    "# Delayed open_dataset of LE files\n",
    "@dask.delayed\n",
    "def open_LE_delayed(t0, lem):\n",
    "    return xr.open_dataset(glob('/gws/nopw/j04/canari/shared/large-ensemble/priority/HIST2/%s/OCN/yearly/%04d/*grid_V_vomecrty.nc'%(lem, t0))[0],\n",
    "                               chunks={'time_counter':1})\n",
    "\n",
    "def calc_bt_psi(t0, lem):\n",
    "    # Set up psi calculation with delayed file opening\n",
    "    var_data = ((open_LE_delayed(t0, lem)['vomecrty'][:,:,900:1075,900:1025]\n",
    "                 *domcfg.e3v_0[0,:,900:1075,900:1025]).sum(dim='depthv')\n",
    "                *domcfg.e1t[0,900:1075,900:1025]/1e6).cumsum(dim='x').data\n",
    "    # Tell Dask the delayed function returns an array, and the size and type of that array\n",
    "    return dask.array.from_delayed(var_data[np.newaxis,:], (1,12, 175, 125), d0['vomecrty'].dtype)"
   ]
  },
  {
   "cell_type": "code",
   "execution_count": null,
   "id": "9e4de999-5f5c-4ec4-8f44-8984e289ef4c",
   "metadata": {},
   "outputs": [],
   "source": [
    "dA = []\n",
    "for lem in LEM:\n",
    "\n",
    "    delayed_psi = dask.array.concatenate([calc_bt_psi(t, lem) for t in np.arange(1950,2015)], axis=1)\n",
    "    \n",
    "    bt_psi = xr.DataArray(delayed_psi,\n",
    "                 dims = ['ensemble member','time_counter','y','x'],\n",
    "                 coords = {\n",
    "                     'ensemble member': [lem,],\n",
    "                     'time_counter': time,\n",
    "                     'nav_lat': d0.nav_lat[900:1075,900:1025],\n",
    "                     'nav_lon': d0.nav_lon[900:1075,900:1025],\n",
    "                     'y': d0.y[900:1075],\n",
    "                     'x': d0.x[900:1025],\n",
    "                 },\n",
    "                name = 'PSI',\n",
    "                )\n",
    "    start_time = timing.time()\n",
    "    dA.append(bt_psi.min(dim=[\"x\", \"y\"]).compute().compute())\n",
    "    #tmp=bt_psi.min(dim=[\"x\", \"y\"]).compute().compute()\n",
    "    end_time = timing.time()\n",
    "    execution_time = end_time - start_time\n",
    "    print(f\"Execution time of {lem}: {execution_time}\")\n",
    "    \n",
    "    del delayed_psi \n",
    "\n",
    "psi_min = xr.concat(dA, dim='ensemble member')"
   ]
  },
  {
   "cell_type": "code",
   "execution_count": null,
   "id": "430d71c2-891c-4b15-a2b3-8f23d5efd29f",
   "metadata": {},
   "outputs": [],
   "source": [
    "client.close()\n",
    "cluster.close()"
   ]
  }
 ],
 "metadata": {
  "kernelspec": {
   "display_name": "gp_newest",
   "language": "python",
   "name": "gp_newest"
  },
  "language_info": {
   "codemirror_mode": {
    "name": "ipython",
    "version": 3
   },
   "file_extension": ".py",
   "mimetype": "text/x-python",
   "name": "python",
   "nbconvert_exporter": "python",
   "pygments_lexer": "ipython3",
   "version": "3.9.16"
  }
 },
 "nbformat": 4,
 "nbformat_minor": 5
}
